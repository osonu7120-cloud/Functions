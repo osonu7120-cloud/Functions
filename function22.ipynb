{
  "nbformat": 4,
  "nbformat_minor": 0,
  "metadata": {
    "colab": {
      "provenance": []
    },
    "kernelspec": {
      "name": "python3",
      "display_name": "Python 3"
    },
    "language_info": {
      "name": "python"
    }
  },
  "cells": [
    {
      "cell_type": "markdown",
      "source": [
        "Q1. What is the difference between a function and a method in Python?\n",
        "\n",
        " Ans: A function is a block of code which runs independently, it is not linked to any object. But a\n",
        " method is also a function which is written inside a class and it is called using an object. Example:\n",
        " def add(a,b): return a+b is a function. 'hello'.upper() is a method of string.\n",
        "\n",
        " Q2. Explain the concept of function arguments and parameters in Python.\n",
        "\n",
        " Ans: Parameters are the names given inside the function definition. Arguments are the actual\n",
        " values we pass when we call the function. Example: def greet(name): print('Hi', name) → here\n",
        " 'name' is parameter, and greet('Arpit') → 'Arpit' is argument.\n",
        "\n",
        " Q3. What are the different ways to define and call a function in Python?\n",
        "\n",
        " Ans: We can define function using def keyword or by using lambda. After definition, we call it by\n",
        " writing its name with (). Example: def f(): return 10; f(). Also, g=lambda x:x*2; g(5) will return 10.\n",
        "\n",
        " Q4. What is the purpose of the return statement in a Python function?\n",
        "\n",
        " Ans: The return statement is used to send some value back from the function to the place where it\n",
        " was called. If we don’t use return, function just prints or performs task but does not give back value.\n",
        " Example: def square(x): return x*x → square(4) gives 16.\n",
        "\n",
        " Q5. What are iterators in Python and how do they differ from iterables?\n",
        "\n",
        " Ans: Iterable is an object like list, tuple, string which can be looped using for loop. Iterator is an\n",
        " object which gives values one by one using next(). Example: list=[1,2]; it=iter(list); next(it) → gives\n",
        " 1, again next(it) → gives 2.\n",
        "\n",
        " Q6. Explain the concept of generators in Python and how they are defined.\n",
        "\n",
        " Ans: Generators are special functions which use yield keyword instead of return. They give values\n",
        " one at a time and pause their state, which saves memory. Example: def nums(): yield 1; yield 2. for\n",
        " x in nums(): print(x) → prints 1 and 2.\n",
        "\n",
        " Q7. What are the advantages of using generators over regular functions?\n",
        "\n",
        " Ans: Generators do not create the whole list in memory, they give values only when needed. This is\n",
        " very useful when handling large data or files. Also code becomes simpler compared to using\n",
        " classes for iterators.\n",
        "\n",
        " Q8. What is a lambda function in Python and when is it typically used?\n",
        "\n",
        " Ans: Lambda is a small one-line function without any name. It is used when we need simple\n",
        " function for short time, like inside map or filter. Example: square = lambda x: x*x; square(5) → gives\n",
        " 25.\n",
        "\n",
        " Q9. Explain the purpose and usage of the map() function in Python.\n",
        "\n",
        " Ans: map() applies a given function to every element of an iterable and returns a new iterator. It is\n",
        " useful when we want to perform same operation on all items. Example: map(lambda x: x*2, [1,2,3])\n",
        " → gives 2,4,6.\n",
        "\n",
        " Q10. What is the difference between map(), reduce(), and filter() functions in Python?\n",
        "\n",
        "Ans: map() changes all elements according to function. filter() keeps only those elements which\n",
        " satisfy the condition. reduce() combines elements step by step into a single value. Example:\n",
        " map(lambda x:x*2,[1,2]) → [2,4]; filter(lambda x:x%2==0,[1,2,3]) → [2]; reduce(lambda\n",
        " a,b:a+b,[1,2,3]) → 6.\n",
        "\n",
        " Q11. Using pen & paper write the internal mechanism for sum operation using reduce\n",
        "\n",
        " function on [47,11,42,13].\n",
        "\n",
        " Ans: Step1: a=47, b=11 → 58. Step2: a=58, b=42 → 100. Step3: a=100, b=13 → 113. So the final\n",
        " result after reduce is 113"
      ],
      "metadata": {
        "id": "oc2VfNYs0R5M"
      }
    },
    {
      "cell_type": "markdown",
      "source": [
        "#Practical Questions:"
      ],
      "metadata": {
        "id": "YMGbb_Ba10uM"
      }
    },
    {
      "cell_type": "markdown",
      "source": [
        "ans 1"
      ],
      "metadata": {
        "id": "Guqw_xWw2GB1"
      }
    },
    {
      "cell_type": "code",
      "source": [
        "def sum_even(numbers):\n",
        "    total = 0\n",
        "    for n in numbers:\n",
        "        if n % 2 == 0:\n",
        "            total += n\n",
        "    return total\n",
        "\n",
        "# Example\n",
        "print(sum_even([1,2,3,4,5,6]))   # 12"
      ],
      "metadata": {
        "colab": {
          "base_uri": "https://localhost:8080/"
        },
        "id": "wN1RNT8X17d-",
        "outputId": "f9f59e69-7700-440e-ec0b-a820c3994e7d"
      },
      "execution_count": 1,
      "outputs": [
        {
          "output_type": "stream",
          "name": "stdout",
          "text": [
            "12\n"
          ]
        }
      ]
    },
    {
      "cell_type": "markdown",
      "source": [
        "ans2"
      ],
      "metadata": {
        "id": "fd-SY5a12MC1"
      }
    },
    {
      "cell_type": "code",
      "source": [
        "def reverse_string(s):\n",
        "    return s[::-1]\n",
        "\n",
        "# Example\n",
        "print(reverse_string(\"hello\"))   # olleh"
      ],
      "metadata": {
        "colab": {
          "base_uri": "https://localhost:8080/"
        },
        "id": "3O0h4z1C2OFV",
        "outputId": "a578be80-3cb4-412a-e414-33ca92b2578b"
      },
      "execution_count": 2,
      "outputs": [
        {
          "output_type": "stream",
          "name": "stdout",
          "text": [
            "olleh\n"
          ]
        }
      ]
    },
    {
      "cell_type": "markdown",
      "source": [
        "ans 3"
      ],
      "metadata": {
        "id": "VT9tgLWf2W_3"
      }
    },
    {
      "cell_type": "code",
      "source": [
        "def squares(nums):\n",
        "    result = []\n",
        "    for n in nums:\n",
        "        result.append(n*n)\n",
        "    return result\n",
        "\n",
        "# Example\n",
        "print(squares([1,2,3,4]))   # [1, 4, 9, 16]"
      ],
      "metadata": {
        "colab": {
          "base_uri": "https://localhost:8080/"
        },
        "id": "BpDC8v6_2bQ2",
        "outputId": "3d0f7006-a2d3-4f51-c41f-90a6b00acfb2"
      },
      "execution_count": 3,
      "outputs": [
        {
          "output_type": "stream",
          "name": "stdout",
          "text": [
            "[1, 4, 9, 16]\n"
          ]
        }
      ]
    },
    {
      "cell_type": "markdown",
      "source": [
        "ans 4"
      ],
      "metadata": {
        "id": "FV8xB73M2jWw"
      }
    },
    {
      "cell_type": "code",
      "source": [
        "def is_prime(n):\n",
        "    if n < 2:\n",
        "        return False\n",
        "    for i in range(2, n):\n",
        "        if n % i == 0:\n",
        "            return False\n",
        "    return True\n",
        "\n",
        "# Example\n",
        "print(is_prime(7))   # True\n",
        "print(is_prime(10))  # False"
      ],
      "metadata": {
        "colab": {
          "base_uri": "https://localhost:8080/"
        },
        "id": "Nm-81SO52nbT",
        "outputId": "4a71101a-15f7-41f0-8795-b8a5ca602559"
      },
      "execution_count": 4,
      "outputs": [
        {
          "output_type": "stream",
          "name": "stdout",
          "text": [
            "True\n",
            "False\n"
          ]
        }
      ]
    },
    {
      "cell_type": "markdown",
      "source": [
        "ans 5"
      ],
      "metadata": {
        "id": "vFw4LaOr2uKB"
      }
    },
    {
      "cell_type": "code",
      "source": [
        "class Fibonacci:\n",
        "    def init(self, limit):\n",
        "        self.a = 0\n",
        "        self.b = 1\n",
        "        self.limit = limit\n",
        "        self.count = 0\n",
        "\n",
        "    def iter(self):\n",
        "        return self\n",
        "\n",
        "    def next(self):\n",
        "        if self.count < self.limit:\n",
        "            num = self.a\n",
        "            self.a, self.b = self.b, self.a + self.b\n",
        "            self.count += 1\n",
        "            return num\n",
        "        else:\n",
        "            raise StopIteration\n",
        "\n",
        "# Example\n",
        "for n in Fibonacci(6):\n",
        "    print(n)"
      ],
      "metadata": {
        "colab": {
          "base_uri": "https://localhost:8080/",
          "height": 193
        },
        "id": "Cs1GLRVM2vdB",
        "outputId": "a59c013e-f8d6-4284-888b-3ccb7bd45d43"
      },
      "execution_count": 5,
      "outputs": [
        {
          "output_type": "error",
          "ename": "TypeError",
          "evalue": "Fibonacci() takes no arguments",
          "traceback": [
            "\u001b[0;31m---------------------------------------------------------------------------\u001b[0m",
            "\u001b[0;31mTypeError\u001b[0m                                 Traceback (most recent call last)",
            "\u001b[0;32m/tmp/ipython-input-2008731419.py\u001b[0m in \u001b[0;36m<cell line: 0>\u001b[0;34m()\u001b[0m\n\u001b[1;32m     19\u001b[0m \u001b[0;34m\u001b[0m\u001b[0m\n\u001b[1;32m     20\u001b[0m \u001b[0;31m# Example\u001b[0m\u001b[0;34m\u001b[0m\u001b[0;34m\u001b[0m\u001b[0m\n\u001b[0;32m---> 21\u001b[0;31m \u001b[0;32mfor\u001b[0m \u001b[0mn\u001b[0m \u001b[0;32min\u001b[0m \u001b[0mFibonacci\u001b[0m\u001b[0;34m(\u001b[0m\u001b[0;36m6\u001b[0m\u001b[0;34m)\u001b[0m\u001b[0;34m:\u001b[0m\u001b[0;34m\u001b[0m\u001b[0;34m\u001b[0m\u001b[0m\n\u001b[0m\u001b[1;32m     22\u001b[0m     \u001b[0mprint\u001b[0m\u001b[0;34m(\u001b[0m\u001b[0mn\u001b[0m\u001b[0;34m)\u001b[0m\u001b[0;34m\u001b[0m\u001b[0;34m\u001b[0m\u001b[0m\n",
            "\u001b[0;31mTypeError\u001b[0m: Fibonacci() takes no arguments"
          ]
        }
      ]
    },
    {
      "cell_type": "markdown",
      "source": [
        "ans 6"
      ],
      "metadata": {
        "id": "l8qPzUrf25rh"
      }
    },
    {
      "cell_type": "code",
      "source": [
        "def power_two(n):\n",
        "    for i in range(n+1):\n",
        "        yield 2**i\n",
        "\n",
        "# Example\n",
        "for val in power_two(5):\n",
        "    print(val)"
      ],
      "metadata": {
        "colab": {
          "base_uri": "https://localhost:8080/"
        },
        "id": "Tbcmfk9_26rS",
        "outputId": "f55584f0-6869-48f2-c737-e2f7dcd8969c"
      },
      "execution_count": 6,
      "outputs": [
        {
          "output_type": "stream",
          "name": "stdout",
          "text": [
            "1\n",
            "2\n",
            "4\n",
            "8\n",
            "16\n",
            "32\n"
          ]
        }
      ]
    },
    {
      "cell_type": "markdown",
      "source": [
        "ans 7"
      ],
      "metadata": {
        "id": "rgWnsanW3Dgi"
      }
    },
    {
      "cell_type": "code",
      "source": [
        "def read_file(filename):\n",
        "    with open(filename) as f:\n",
        "        for line in f:\n",
        "            yield line.strip()\n",
        "\n",
        "# Example (if file.txt exists)\n",
        "# for l in read_file(\"file.txt\"):\n",
        "#     print(l)"
      ],
      "metadata": {
        "id": "73LbUBl23FP-"
      },
      "execution_count": 8,
      "outputs": []
    },
    {
      "cell_type": "markdown",
      "source": [
        "ans 8"
      ],
      "metadata": {
        "id": "rHgXcXZZ3PZM"
      }
    },
    {
      "cell_type": "code",
      "source": [
        "data = [(1,5), (3,2), (4,8), (2,1)]\n",
        "data.sort(key=lambda x: x[1])\n",
        "print(data)"
      ],
      "metadata": {
        "colab": {
          "base_uri": "https://localhost:8080/"
        },
        "id": "sNxTjz_K3Qh1",
        "outputId": "4655c285-525e-47da-9c1f-758b92b94a4c"
      },
      "execution_count": 9,
      "outputs": [
        {
          "output_type": "stream",
          "name": "stdout",
          "text": [
            "[(2, 1), (3, 2), (1, 5), (4, 8)]\n"
          ]
        }
      ]
    },
    {
      "cell_type": "markdown",
      "source": [
        "ans 9"
      ],
      "metadata": {
        "id": "8pmPSoTi3Zmd"
      }
    },
    {
      "cell_type": "code",
      "source": [
        "temps = [0, 20, 30, 40]\n",
        "fahrenheit = list(map(lambda c: (c*9/5)+32, temps))\n",
        "print(fahrenheit)"
      ],
      "metadata": {
        "colab": {
          "base_uri": "https://localhost:8080/"
        },
        "id": "DpHJKVwB3bOl",
        "outputId": "80de3a54-f7c3-4fe1-9fa0-b014d3de0be7"
      },
      "execution_count": 10,
      "outputs": [
        {
          "output_type": "stream",
          "name": "stdout",
          "text": [
            "[32.0, 68.0, 86.0, 104.0]\n"
          ]
        }
      ]
    },
    {
      "cell_type": "markdown",
      "source": [
        "ans 10"
      ],
      "metadata": {
        "id": "uBi-2La13hu2"
      }
    },
    {
      "cell_type": "code",
      "source": [
        "def remove_vowels(s):\n",
        "    return \"\".join(filter(lambda ch: ch.lower() not in \"aeiou\", s))\n",
        "\n",
        "print(remove_vowels(\"Hello World\"))   # Hll Wrld"
      ],
      "metadata": {
        "colab": {
          "base_uri": "https://localhost:8080/"
        },
        "id": "xYR4xPve3jsq",
        "outputId": "2f9592b7-558d-4069-adf7-2cd2427415d2"
      },
      "execution_count": 11,
      "outputs": [
        {
          "output_type": "stream",
          "name": "stdout",
          "text": [
            "Hll Wrld\n"
          ]
        }
      ]
    },
    {
      "cell_type": "markdown",
      "source": [
        "ans 11"
      ],
      "metadata": {
        "id": "e5OsNhB_3p8-"
      }
    },
    {
      "cell_type": "code",
      "source": [
        "orders = [\n",
        "    [34587, \"Learning Python, Mark Lutz\", 4, 40.95],\n",
        "    [98762, \"Programming Python, Mark Lutz\", 5, 56.80],\n",
        "    [77226, \"Head First Python, Paul Barry\", 3, 32.95],\n",
        "    [88112, \"Einführung in Python3, Bernd Klein\", 3, 24.99]\n",
        "]\n",
        "\n",
        "result = list(map(lambda x: (x[0], x[2]*x[3] if x[2]*x[3] >= 100 else x[2]*x[3]+10), orders))\n",
        "\n",
        "print(result)"
      ],
      "metadata": {
        "colab": {
          "base_uri": "https://localhost:8080/"
        },
        "id": "qZ-e1hwx3sWn",
        "outputId": "40b8cd85-2c1d-4525-868e-814ecbd6537c"
      },
      "execution_count": 12,
      "outputs": [
        {
          "output_type": "stream",
          "name": "stdout",
          "text": [
            "[(34587, 163.8), (98762, 284.0), (77226, 108.85000000000001), (88112, 84.97)]\n"
          ]
        }
      ]
    },
    {
      "cell_type": "code",
      "source": [],
      "metadata": {
        "id": "l7QM99hl3x65"
      },
      "execution_count": null,
      "outputs": []
    }
  ]
}